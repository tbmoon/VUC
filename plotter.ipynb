{
 "cells": [
  {
   "cell_type": "code",
   "execution_count": null,
   "metadata": {},
   "outputs": [],
   "source": [
    "import numpy as np\n",
    "import csv\n",
    "import matplotlib.pyplot as plt"
   ]
  },
  {
   "cell_type": "code",
   "execution_count": null,
   "metadata": {},
   "outputs": [],
   "source": [
    "num_epochs = 6"
   ]
  },
  {
   "cell_type": "code",
   "execution_count": null,
   "metadata": {},
   "outputs": [],
   "source": [
    "fig = plt.figure(figsize=(15,5))\n",
    "\n",
    "for phase in ['train', 'valid']:\n",
    "    \n",
    "    epoch = []\n",
    "    loss = []\n",
    "    precision = []\n",
    "    recall = []\n",
    "    \n",
    "    for i in range(num_epochs):\n",
    "        \n",
    "        with open('./logs/{}-log-epoch-{:02d}.txt'.format(phase, i+1), 'r') as f:\n",
    "            df = csv.reader(f, delimiter='\\t')\n",
    "            data = list(df)\n",
    "\n",
    "        epoch.append(float(data[0][0]))\n",
    "        loss.append(float(data[0][1]))\n",
    "        precision.append(float(data[0][2]))\n",
    "        #recall.append(float(data[0][3]))\n",
    "\n",
    "    plt.subplot(1, 3, 1)\n",
    "    if phase == 'train':\n",
    "        plt.plot(epoch, loss, label = phase, color = 'red', linewidth = 5.0)\n",
    "    else:\n",
    "        plt.plot(epoch, loss, label = phase, color = 'blue', linewidth = 5.0)\n",
    "            \n",
    "    plt.xlabel('Epoch', fontsize = 20)\n",
    "    plt.ylabel('Loss', fontsize = 20)\n",
    "        \n",
    "    plt.subplot(1, 3, 2)\n",
    "    plt.tight_layout()\n",
    "\n",
    "    if phase == 'train':\n",
    "        plt.plot(epoch, precision, label = phase, color = 'red', linewidth = 5.0)\n",
    "    else:\n",
    "        plt.plot(epoch, precision, label = phase, color = 'blue', linewidth = 5.0)\n",
    "    \n",
    "    plt.xlabel('Epoch', fontsize = 20)\n",
    "    plt.ylabel('Precision', fontsize = 20)\n",
    "    \n",
    "    '''\n",
    "    plt.subplot(1, 3, 3)\n",
    "    plt.tight_layout()\n",
    "    \n",
    "    if phase == 'train':\n",
    "        plt.plot(epoch, recall, label = phase, color = 'red', linewidth = 5.0)\n",
    "    else:\n",
    "        plt.plot(epoch, recall, label = phase, color = 'blue', linewidth = 5.0)\n",
    "    \n",
    "    plt.xlabel('Epoch', fontsize = 20)\n",
    "    plt.ylabel('Recall', fontsize = 20)\n",
    "    '''\n",
    "    \n",
    "    plt.legend(bbox_to_anchor=(1.05, 1), loc=2, borderaxespad=0., prop={'size': 20})\n",
    "    \n",
    "    \n",
    "plt.savefig('./png/train.png', dpi = fig.dpi)"
   ]
  }
 ],
 "metadata": {
  "kernelspec": {
   "display_name": "Python 3",
   "language": "python",
   "name": "python3"
  },
  "language_info": {
   "codemirror_mode": {
    "name": "ipython",
    "version": 3
   },
   "file_extension": ".py",
   "mimetype": "text/x-python",
   "name": "python",
   "nbconvert_exporter": "python",
   "pygments_lexer": "ipython3",
   "version": "3.6.8"
  }
 },
 "nbformat": 4,
 "nbformat_minor": 2
}
