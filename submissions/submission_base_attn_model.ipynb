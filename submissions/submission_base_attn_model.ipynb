{
 "cells": [
  {
   "cell_type": "code",
   "execution_count": null,
   "metadata": {},
   "outputs": [],
   "source": [
    "import os\n",
    "import pandas as pd\n",
    "import numpy as np\n",
    "from ast import literal_eval"
   ]
  },
  {
   "cell_type": "code",
   "execution_count": null,
   "metadata": {},
   "outputs": [],
   "source": [
    "num_classes = 1000\n",
    "n_preds = 10000\n",
    "input_dir = os.path.join(os.getcwd(), '../outputs')\n",
    "df_output = pd.read_csv('sample.csv')\n",
    "df_output = df_output.set_index('Class')\n",
    "df_merged_input = pd.DataFrame()"
   ]
  },
  {
   "cell_type": "code",
   "execution_count": null,
   "metadata": {},
   "outputs": [],
   "source": [
    "df_vocab = pd.read_csv('../data/3rd_challenge_vocabulary.csv')\n",
    "vocab_idx2label_dict = dict()\n",
    "for i, label in enumerate(df_vocab['Index']):\n",
    "    vocab_idx2label_dict[i+1] = label"
   ]
  },
  {
   "cell_type": "code",
   "execution_count": null,
   "metadata": {},
   "outputs": [],
   "source": [
    "for i in range(1, num_classes+1):\n",
    "    if i % 10 == 0:\n",
    "        print(i)\n",
    "    df_inputs = pd.read_csv(os.path.join(input_dir, '%04d.csv'%(i)))\n",
    "    df_input = pd.DataFrame()\n",
    "    for j in range(len(df_inputs)):\n",
    "        seg_label_pred = [i for i in literal_eval(df_inputs['seg_label_pred'][j])]\n",
    "        seg_prob = [i for i in literal_eval(df_inputs['seg_prob'][j])]\n",
    "        if j == 0:\n",
    "            new_seg_label_pred = seg_label_pred\n",
    "            new_seg_prob = seg_prob\n",
    "            key = [j for _ in range(len(seg_label_pred))]\n",
    "\n",
    "        else:\n",
    "            new_seg_label_pred += seg_label_pred\n",
    "            new_seg_prob += seg_prob\n",
    "            key += [j for _ in range(len(seg_label_pred))]\n",
    "    df_input['new_seg_label_pred'] = new_seg_label_pred\n",
    "    df_input['new_seg_prob'] = new_seg_prob\n",
    "    df_input['key'] = key\n",
    "\n",
    "    df_inputs = df_inputs.join(df_input.set_index('key'))\n",
    "    df_inputs = df_inputs.drop(columns=['seg_label_pred', 'seg_prob'])\n",
    "    df_inputs['vid_label_pred'] = df_inputs['vid_label_pred'].map(vocab_idx2label_dict)\n",
    "    df_inputs['new_seg_label_pred'] = (5*(df_inputs['new_seg_label_pred'].astype(int) - 1))\n",
    "    df_inputs = df_inputs[df_inputs['new_seg_label_pred'] >= 30]\n",
    "    df_inputs = df_inputs[df_inputs['new_seg_label_pred'] <= 265]\n",
    "    df_inputs = df_inputs.sort_values(by=['vid_prob', 'new_seg_prob'], ascending=False).head(n_preds)\n",
    "    df_inputs = df_inputs.drop(columns=['vid_prob'])\n",
    "    df_merged_input = pd.concat([df_merged_input, df_inputs], axis=0)"
   ]
  },
  {
   "cell_type": "code",
   "execution_count": null,
   "metadata": {},
   "outputs": [],
   "source": [
    "df_merged_input.rename(columns={'new_seg_label_pred': 'seg_label_pred', 'new_seg_prob': 'seg_prob'}, inplace=True)\n",
    "df_output = df_output.join(df_merged_input.set_index('vid_label_pred'), on='Class')\n",
    "df_output"
   ]
  },
  {
   "cell_type": "code",
   "execution_count": null,
   "metadata": {},
   "outputs": [],
   "source": [
    "df_output['Segments'] = df_output[['vid_id', 'seg_label_pred']].apply(lambda x: ':'.join(map(str, x)), axis=1)"
   ]
  },
  {
   "cell_type": "code",
   "execution_count": null,
   "metadata": {},
   "outputs": [],
   "source": [
    "df_output"
   ]
  },
  {
   "cell_type": "code",
   "execution_count": null,
   "metadata": {},
   "outputs": [],
   "source": [
    "df_output = df_output.groupby('Class').agg({'Segments': lambda x: ' '.join(map(str, x))})"
   ]
  },
  {
   "cell_type": "code",
   "execution_count": null,
   "metadata": {},
   "outputs": [],
   "source": [
    "df_output.to_csv(\"sample_submission.csv\")"
   ]
  },
  {
   "cell_type": "code",
   "execution_count": null,
   "metadata": {},
   "outputs": [],
   "source": [
    "df_output"
   ]
  }
 ],
 "metadata": {
  "kernelspec": {
   "display_name": "Python 3",
   "language": "python",
   "name": "python3"
  },
  "language_info": {
   "codemirror_mode": {
    "name": "ipython",
    "version": 3
   },
   "file_extension": ".py",
   "mimetype": "text/x-python",
   "name": "python",
   "nbconvert_exporter": "python",
   "pygments_lexer": "ipython3",
   "version": "3.6.7"
  }
 },
 "nbformat": 4,
 "nbformat_minor": 2
}
