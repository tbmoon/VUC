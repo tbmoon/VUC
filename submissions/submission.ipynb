{
 "cells": [
  {
   "cell_type": "code",
   "execution_count": null,
   "metadata": {},
   "outputs": [],
   "source": [
    "import os\n",
    "import pandas as pd"
   ]
  },
  {
   "cell_type": "code",
   "execution_count": null,
   "metadata": {},
   "outputs": [],
   "source": [
    "num_classes = 1000\n",
    "n_preds = 10000\n",
    "input_dir = os.path.join(os.getcwd(), '../outputs')\n",
    "df_output = pd.read_csv('sample.csv')\n",
    "df_output = df_output.set_index('Class')\n",
    "df_inputs = pd.DataFrame(columns=['vid_id', 'vid_label_pred', 'seg_time_pred'])"
   ]
  },
  {
   "cell_type": "code",
   "execution_count": null,
   "metadata": {},
   "outputs": [],
   "source": [
    "df_vocab = pd.read_csv('../data/3rd_challenge_vocabulary.csv')\n",
    "vocab_idx2label_dict = dict()\n",
    "for i, label in enumerate(df_vocab['Index']):\n",
    "    vocab_idx2label_dict[i+1] = label"
   ]
  },
  {
   "cell_type": "code",
   "execution_count": null,
   "metadata": {},
   "outputs": [],
   "source": [
    "for i in range(1, num_classes+1):\n",
    "    if i % 100 == 0:\n",
    "        print(i)\n",
    "    df_input = pd.read_csv(os.path.join(input_dir, '%04d.csv'%(i)))\n",
    "    df_input = df_input.sort_values(by=['vid_label_pred', 'seg_score'], ascending=False).head(n_preds)\n",
    "    df_input = df_input[:n_preds]\n",
    "    df_input = df_input.drop(columns=['seg_score'])\n",
    "    df_input['vid_label_pred'] = df_input['vid_label_pred'].map(vocab_idx2label_dict)\n",
    "    df_input['seg_time_pred'] = (5*(df_input['seg_time_pred'] - 1)).astype(str)\n",
    "    df_inputs = pd.concat([df_inputs, df_input], axis=0)"
   ]
  },
  {
   "cell_type": "code",
   "execution_count": null,
   "metadata": {},
   "outputs": [],
   "source": [
    "df_inputs"
   ]
  },
  {
   "cell_type": "code",
   "execution_count": null,
   "metadata": {},
   "outputs": [],
   "source": [
    "df_output = df_output.join(df_inputs.set_index('vid_label_pred'), on='Class')"
   ]
  },
  {
   "cell_type": "code",
   "execution_count": null,
   "metadata": {},
   "outputs": [],
   "source": [
    "df_output"
   ]
  },
  {
   "cell_type": "code",
   "execution_count": null,
   "metadata": {},
   "outputs": [],
   "source": [
    "df_output['Segments'] = df_output[['vid_id', 'seg_time_pred']].apply(lambda x: ':'.join(map(str, x)), axis=1)"
   ]
  },
  {
   "cell_type": "code",
   "execution_count": null,
   "metadata": {},
   "outputs": [],
   "source": [
    "df_output"
   ]
  },
  {
   "cell_type": "code",
   "execution_count": null,
   "metadata": {},
   "outputs": [],
   "source": [
    "df_output = df_output.groupby('Class').agg({'Segments': lambda x: ' '.join(map(str, x))})"
   ]
  },
  {
   "cell_type": "code",
   "execution_count": null,
   "metadata": {},
   "outputs": [],
   "source": [
    "df_output.to_csv(\"sample_submission.csv\")"
   ]
  },
  {
   "cell_type": "code",
   "execution_count": null,
   "metadata": {},
   "outputs": [],
   "source": [
    "df_output"
   ]
  }
 ],
 "metadata": {
  "kernelspec": {
   "display_name": "Python 3",
   "language": "python",
   "name": "python3"
  },
  "language_info": {
   "codemirror_mode": {
    "name": "ipython",
    "version": 3
   },
   "file_extension": ".py",
   "mimetype": "text/x-python",
   "name": "python",
   "nbconvert_exporter": "python",
   "pygments_lexer": "ipython3",
   "version": "3.6.7"
  }
 },
 "nbformat": 4,
 "nbformat_minor": 2
}
