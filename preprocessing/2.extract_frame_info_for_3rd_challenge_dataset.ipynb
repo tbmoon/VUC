{
 "cells": [
  {
   "cell_type": "code",
   "execution_count": null,
   "metadata": {},
   "outputs": [],
   "source": [
    "'''\n",
    "Results of this macro\n",
    "\n",
    "- The length between 'frame_rgb' and 'frame_audio' is the same each other. \n",
    "- The maximum length of frame for both vailation and test sets: 301\n",
    "\n",
    "- segment_start_times_set: [30, 265]\n",
    "    [30, 35, 40, 45, 50, 55, 60, 65, 70, 75, 80, 85, 90, 95, 100, 105, 110, 115, 120, 125, 130, 135, 140, 145, 150, 155, 160, 165, 170, 175, 180, 185, 190, 195, 200, 205, 210, 215, 220, 225, 230, 235, 240, 245, 250, 255, 260, 265]\n",
    "- segment_end_times_set: [35, 270]\n",
    "    [35, 40, 45, 50, 55, 60, 65, 70, 75, 80, 85, 90, 95, 100, 105, 110, 115, 120, 125, 130, 135, 140, 145, 150, 155, 160, 165, 170, 175, 180, 185, 190, 195, 200, 205, 210, 215, 220, 225, 230, 235, 240, 245, 250, 255, 260, 265, 270]\n",
    "\n",
    "- The length of segment_start_times_set:  48\n",
    "- The length of segment_end_times_set:  48\n",
    "'''"
   ]
  },
  {
   "cell_type": "code",
   "execution_count": null,
   "metadata": {},
   "outputs": [],
   "source": [
    "import os\n",
    "import numpy as np\n",
    "import glob"
   ]
  },
  {
   "cell_type": "code",
   "execution_count": null,
   "metadata": {},
   "outputs": [],
   "source": [
    "data_dir = '/run/media/hoosiki/WareHouse2/mtb/datasets/VU/pytorch_datasets/'\n",
    "data_types = ['valid', 'test']"
   ]
  },
  {
   "cell_type": "code",
   "execution_count": null,
   "metadata": {},
   "outputs": [],
   "source": [
    "max_frame_length = 0\n",
    "\n",
    "for data_type in data_types:\n",
    "    frame_dir = data_dir + '3rd_challenge/{}/'.format(data_type)\n",
    "    file_paths = glob.glob(frame_dir + '*.npy')\n",
    "    \n",
    "    for i, file_path in enumerate (file_paths):\n",
    "        print(data_type, i)\n",
    "        data = np.load(file_path, allow_pickle=True).item()\n",
    "        frame_rgb_len = len(data['frame_rgb'])\n",
    "        frame_audio_len = len(data['frame_audio'])\n",
    "        if (frame_rgb_len != frame_audio_len):\n",
    "            print('(ERROR) - check if frame length is correct or not!')\n",
    "            break\n",
    "        if (max_frame_length < frame_rgb_len):\n",
    "            max_frame_length = frame_rgb_len\n",
    "    \n",
    "print('The maximum length of frame : ', max_frame_length)"
   ]
  },
  {
   "cell_type": "code",
   "execution_count": null,
   "metadata": {},
   "outputs": [],
   "source": [
    "segment_start_times_set = set()\n",
    "segment_end_times_set = set()\n",
    "\n",
    "for data_type in ['valid']:\n",
    "    frame_dir = data_dir + '3rd_challenge/{}/'.format(data_type)\n",
    "    file_paths = glob.glob(frame_dir + '*.npy')\n",
    "\n",
    "    for i, file_path in enumerate (file_paths):\n",
    "        print(i, file_path)\n",
    "        data = np.load(file_path, allow_pickle=True).item()\n",
    "        segment_start_times_set.update(data['segment_start_times'])\n",
    "        segment_end_times_set.update(data['segment_end_times'])\n",
    "\n",
    "print('segment_start_times_set: ')\n",
    "print(sorted(segment_start_times_set))\n",
    "print('segment_end_times_set: ')\n",
    "print(sorted(segment_end_times_set))\n",
    "print('The length of segment_start_times_set: ', len(segment_start_times_set))\n",
    "print('The length of segment_end_times_set: ', len(segment_end_times_set))"
   ]
  },
  {
   "cell_type": "code",
   "execution_count": null,
   "metadata": {},
   "outputs": [],
   "source": []
  }
 ],
 "metadata": {
  "kernelspec": {
   "display_name": "Python 3",
   "language": "python",
   "name": "python3"
  },
  "language_info": {
   "codemirror_mode": {
    "name": "ipython",
    "version": 3
   },
   "file_extension": ".py",
   "mimetype": "text/x-python",
   "name": "python",
   "nbconvert_exporter": "python",
   "pygments_lexer": "ipython3",
   "version": "3.6.8"
  }
 },
 "nbformat": 4,
 "nbformat_minor": 2
}
