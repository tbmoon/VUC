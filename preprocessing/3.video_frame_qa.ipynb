{
 "cells": [
  {
   "cell_type": "code",
   "execution_count": null,
   "metadata": {},
   "outputs": [],
   "source": [
    "import os\n",
    "import numpy as np\n",
    "import glob\n",
    "import shutil"
   ]
  },
  {
   "cell_type": "code",
   "execution_count": null,
   "metadata": {},
   "outputs": [],
   "source": [
    "data_dir = '/run/media/hoosiki/WareHouse3/mtb/datasets/VU/active_datasets/'\n",
    "data_types = ['validate', 'test']"
   ]
  },
  {
   "cell_type": "code",
   "execution_count": null,
   "metadata": {},
   "outputs": [],
   "source": [
    "for data_type in data_types:\n",
    "    frame_dir = data_dir + 'npy_formatted_frame/{}/'.format(data_type)\n",
    "    bad_frame_dir = data_dir + 'npy_formatted_frame/bad_{}/'.format(data_type)\n",
    "    os.makedirs(bad_frame_dir, exist_ok=True)\n",
    "    file_paths = glob.glob(frame_dir + '*.npy')\n",
    "\n",
    "    for i, file_path in enumerate (file_paths):\n",
    "        data = np.load(file_path, allow_pickle=True).item()\n",
    "        frame_rgb_len = len(data['frame_rgb'])\n",
    "        frame_audio_len = len(data['frame_audio'])\n",
    "        if (frame_rgb_len != frame_audio_len):\n",
    "            print('(ERROR) - check if frame length is correct or not!')\n",
    "            break\n",
    "\n",
    "        if (frame_rgb_len == 1):\n",
    "            print(file_path)\n",
    "            shutil.move(file_path, bad_frame_dir)\n",
    "        if (data_type == 'validate'):\n",
    "            max_segment_start_times = max(data['segment_start_times'])\n",
    "            if (frame_rgb_len < max_segment_start_times):\n",
    "                print(file_path)\n",
    "                shutil.move(file_path, bad_frame_dir)"
   ]
  }
 ],
 "metadata": {
  "kernelspec": {
   "display_name": "Python 3",
   "language": "python",
   "name": "python3"
  },
  "language_info": {
   "codemirror_mode": {
    "name": "ipython",
    "version": 3
   },
   "file_extension": ".py",
   "mimetype": "text/x-python",
   "name": "python",
   "nbconvert_exporter": "python",
   "pygments_lexer": "ipython3",
   "version": "3.6.8"
  }
 },
 "nbformat": 4,
 "nbformat_minor": 2
}
