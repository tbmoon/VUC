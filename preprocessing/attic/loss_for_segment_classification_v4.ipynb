{
 "cells": [
  {
   "cell_type": "code",
   "execution_count": null,
   "metadata": {},
   "outputs": [],
   "source": [
    "import torch\n",
    "import torch.nn as nn\n",
    "import torch.nn.functional as F"
   ]
  },
  {
   "cell_type": "code",
   "execution_count": null,
   "metadata": {},
   "outputs": [],
   "source": [
    "# attn_idc: [batch_size, num_classes]\n",
    "# attn_weights: [batch_size, max_seg_length, n_attns]"
   ]
  },
  {
   "cell_type": "code",
   "execution_count": null,
   "metadata": {},
   "outputs": [],
   "source": [
    "eps = 1e-6"
   ]
  },
  {
   "cell_type": "code",
   "execution_count": null,
   "metadata": {},
   "outputs": [],
   "source": [
    "batch_size, num_classes, max_seg_length, max_seg_label_length, n_attns = 2, 6, 7, 6, 3"
   ]
  },
  {
   "cell_type": "code",
   "execution_count": null,
   "metadata": {},
   "outputs": [],
   "source": [
    "seg_labels = torch.LongTensor([[6, 6, 4, 1, 1, 4], [2, 2, 1, 2, 0, 0]])\n",
    "seg_times = torch.LongTensor([[3, 7, 2, 1, 2, 3], [2, 6, 3, 4, 0, 0]])"
   ]
  },
  {
   "cell_type": "code",
   "execution_count": null,
   "metadata": {},
   "outputs": [],
   "source": [
    "attn_weights = torch.randn(batch_size, max_seg_length, n_attns)\n",
    "attn_weights"
   ]
  },
  {
   "cell_type": "code",
   "execution_count": null,
   "metadata": {},
   "outputs": [],
   "source": [
    "# attn_weights: [batch_size, seg_length, n_attns]\n",
    "attn_weights = F.softmax(attn_weights, dim=1)\n",
    "attn_weights"
   ]
  },
  {
   "cell_type": "code",
   "execution_count": null,
   "metadata": {},
   "outputs": [],
   "source": [
    "# attn_idc: [batch_size, num_classes]\n",
    "attn_idc = torch.randint(n_attns, (batch_size, num_classes))\n",
    "attn_idc"
   ]
  },
  {
   "cell_type": "code",
   "execution_count": null,
   "metadata": {},
   "outputs": [],
   "source": [
    "zeros = torch.zeros(batch_size, 1).long()\n",
    "zeros"
   ]
  },
  {
   "cell_type": "code",
   "execution_count": null,
   "metadata": {},
   "outputs": [],
   "source": [
    "attn_idc = torch.cat((zeros, attn_idc), dim=1)\n",
    "attn_idc"
   ]
  },
  {
   "cell_type": "code",
   "execution_count": null,
   "metadata": {},
   "outputs": [],
   "source": [
    "#seg_labels = torch.LongTensor([[6, 6, 4, 1, 1, 4], [2, 2, 1, 2, 0, 0]])\n",
    "#seg_times = torch.LongTensor([[3, 7, 2, 1, 2, 3], [2, 6, 3, 4, 0, 0]])"
   ]
  },
  {
   "cell_type": "code",
   "execution_count": null,
   "metadata": {},
   "outputs": [],
   "source": [
    "# selected_attn_idc: [batch_size, max_seg_label_length]\n",
    "selected_attn_idc = torch.gather(attn_idc, 1, seg_labels)\n",
    "selected_attn_idc"
   ]
  },
  {
   "cell_type": "code",
   "execution_count": null,
   "metadata": {},
   "outputs": [],
   "source": [
    "mask = seg_labels.float().ge(0.5)\n",
    "mask"
   ]
  },
  {
   "cell_type": "code",
   "execution_count": null,
   "metadata": {},
   "outputs": [],
   "source": [
    "# attn_weights: [batch_size, n_attns, seg_length]\n",
    "attn_weights = attn_weights.transpose(1, 2)\n",
    "attn_weights"
   ]
  },
  {
   "cell_type": "code",
   "execution_count": null,
   "metadata": {},
   "outputs": [],
   "source": [
    "# Batched index_select\n",
    "def batched_index_select(t, dim, inds):\n",
    "    dummy = inds.unsqueeze(2).expand(inds.size(0), inds.size(1), t.size(2))\n",
    "    out = t.gather(dim, dummy) # b x e x f\n",
    "    return out"
   ]
  },
  {
   "cell_type": "code",
   "execution_count": null,
   "metadata": {},
   "outputs": [],
   "source": [
    "# selected_attn_weights: [batch_size, max_seg_label_length, max_seg_length]\n",
    "selected_attn_weights = batched_index_select(attn_weights, 1, selected_attn_idc)\n",
    "selected_attn_weights"
   ]
  },
  {
   "cell_type": "code",
   "execution_count": null,
   "metadata": {},
   "outputs": [],
   "source": [
    "#seg_labels = torch.LongTensor([[6, 6, 4, 1, 1, 4], [2, 2, 1, 2, 0, 0]])\n",
    "#seg_times = torch.LongTensor([[3, 7, 2, 1, 2, 3], [2, 6, 3, 4, 0, 0]])"
   ]
  },
  {
   "cell_type": "code",
   "execution_count": null,
   "metadata": {},
   "outputs": [],
   "source": [
    "zeros = torch.zeros(batch_size, max_seg_label_length, 1)"
   ]
  },
  {
   "cell_type": "code",
   "execution_count": null,
   "metadata": {},
   "outputs": [],
   "source": [
    "selected_attn_weights = torch.cat((zeros, selected_attn_weights), dim=2)\n",
    "selected_attn_weights"
   ]
  },
  {
   "cell_type": "code",
   "execution_count": null,
   "metadata": {},
   "outputs": [],
   "source": [
    "# seg_times: [batch_size, max_seg_label_length, 1]\n",
    "seg_times = seg_times.unsqueeze(2)\n",
    "seg_times"
   ]
  },
  {
   "cell_type": "code",
   "execution_count": null,
   "metadata": {},
   "outputs": [],
   "source": [
    "all_seg_times = torch.arange(max_seg_length+1)\n",
    "all_seg_times"
   ]
  },
  {
   "cell_type": "code",
   "execution_count": null,
   "metadata": {},
   "outputs": [],
   "source": [
    "all_seg_times = all_seg_times.expand(batch_size, max_seg_label_length, max_seg_length+1)\n",
    "all_seg_times"
   ]
  },
  {
   "cell_type": "code",
   "execution_count": null,
   "metadata": {},
   "outputs": [],
   "source": [
    "probs = torch.where(all_seg_times == seg_times, selected_attn_weights, 1-selected_attn_weights)\n",
    "probs"
   ]
  },
  {
   "cell_type": "code",
   "execution_count": null,
   "metadata": {},
   "outputs": [],
   "source": [
    "probs = probs[:, :, 1:]\n",
    "probs"
   ]
  },
  {
   "cell_type": "code",
   "execution_count": null,
   "metadata": {},
   "outputs": [],
   "source": [
    "loss = -1 * torch.log(probs + eps).sum()\n",
    "loss"
   ]
  },
  {
   "cell_type": "code",
   "execution_count": null,
   "metadata": {},
   "outputs": [],
   "source": [
    "loss_size = batch_size * max_seg_label_length * max_seg_length\n",
    "loss_size"
   ]
  }
 ],
 "metadata": {
  "kernelspec": {
   "display_name": "Python 3",
   "language": "python",
   "name": "python3"
  },
  "language_info": {
   "codemirror_mode": {
    "name": "ipython",
    "version": 3
   },
   "file_extension": ".py",
   "mimetype": "text/x-python",
   "name": "python",
   "nbconvert_exporter": "python",
   "pygments_lexer": "ipython3",
   "version": "3.6.7"
  }
 },
 "nbformat": 4,
 "nbformat_minor": 2
}
