{
 "cells": [
  {
   "cell_type": "code",
   "execution_count": 1,
   "metadata": {},
   "outputs": [],
   "source": [
    "import torch\n",
    "import torch.nn as nn\n",
    "import torch.nn.functional as F"
   ]
  },
  {
   "cell_type": "code",
   "execution_count": 2,
   "metadata": {},
   "outputs": [],
   "source": [
    "# attn_idc: [batch_size, num_classes]\n",
    "# attn_weights: [batch_size, max_seg_length, n_attns]"
   ]
  },
  {
   "cell_type": "code",
   "execution_count": 3,
   "metadata": {},
   "outputs": [],
   "source": [
    "eps = 1e-6"
   ]
  },
  {
   "cell_type": "code",
   "execution_count": 4,
   "metadata": {},
   "outputs": [],
   "source": [
    "batch_size, num_classes, max_seg_length, max_seg_label_length, n_attns = 2, 6, 7, 6, 3"
   ]
  },
  {
   "cell_type": "code",
   "execution_count": 5,
   "metadata": {},
   "outputs": [],
   "source": [
    "seg_labels = torch.LongTensor([[6, 6, 4, 1, 1, 4], [2, 2, 1, 2, 0, 0]])\n",
    "seg_times = torch.LongTensor([[3, 7, 2, 1, 2, 3], [2, 6, 3, 4, 0, 0]])"
   ]
  },
  {
   "cell_type": "code",
   "execution_count": 6,
   "metadata": {},
   "outputs": [
    {
     "data": {
      "text/plain": [
       "tensor([[[-1.0851, -0.3736, -0.1189],\n",
       "         [ 0.7270,  1.0704,  0.3717],\n",
       "         [-0.3377,  1.1548, -0.1457],\n",
       "         [-0.2145,  1.4151, -1.9948],\n",
       "         [ 0.1310, -0.1755,  0.1703],\n",
       "         [-1.0556, -0.5131, -0.5723],\n",
       "         [ 1.0823,  0.0350, -1.4357]],\n",
       "\n",
       "        [[-1.0630,  0.5343, -1.3635],\n",
       "         [ 0.8366,  3.1758,  0.6835],\n",
       "         [ 1.2344,  0.9112, -1.3197],\n",
       "         [-0.6442,  2.0242, -1.2948],\n",
       "         [ 0.0755, -0.8215, -1.4158],\n",
       "         [ 0.2398,  0.0094, -0.4789],\n",
       "         [ 1.0044, -0.1572,  0.8612]]])"
      ]
     },
     "execution_count": 6,
     "metadata": {},
     "output_type": "execute_result"
    }
   ],
   "source": [
    "attn_weights = torch.randn(batch_size, max_seg_length, n_attns)\n",
    "attn_weights"
   ]
  },
  {
   "cell_type": "code",
   "execution_count": 7,
   "metadata": {},
   "outputs": [
    {
     "data": {
      "text/plain": [
       "tensor([[[0.0404, 0.0515, 0.1667],\n",
       "         [0.2473, 0.2182, 0.2723],\n",
       "         [0.0853, 0.2374, 0.1623],\n",
       "         [0.0964, 0.3080, 0.0255],\n",
       "         [0.1363, 0.0628, 0.2226],\n",
       "         [0.0416, 0.0448, 0.1059],\n",
       "         [0.3528, 0.0775, 0.0447]],\n",
       "\n",
       "        [[0.0295, 0.0449, 0.0426],\n",
       "         [0.1974, 0.6299, 0.3298],\n",
       "         [0.2938, 0.0654, 0.0445],\n",
       "         [0.0449, 0.1992, 0.0456],\n",
       "         [0.0922, 0.0116, 0.0404],\n",
       "         [0.1087, 0.0266, 0.1031],\n",
       "         [0.2334, 0.0225, 0.3940]]])"
      ]
     },
     "execution_count": 7,
     "metadata": {},
     "output_type": "execute_result"
    }
   ],
   "source": [
    "# attn_weights: [batch_size, seg_length, n_attns]\n",
    "attn_weights = F.softmax(attn_weights, dim=1)\n",
    "attn_weights"
   ]
  },
  {
   "cell_type": "code",
   "execution_count": 8,
   "metadata": {},
   "outputs": [
    {
     "data": {
      "text/plain": [
       "tensor([[2, 2, 0, 2, 2, 0],\n",
       "        [2, 2, 0, 1, 1, 2]])"
      ]
     },
     "execution_count": 8,
     "metadata": {},
     "output_type": "execute_result"
    }
   ],
   "source": [
    "# attn_idc: [batch_size, num_classes]\n",
    "attn_idc = torch.randint(n_attns, (batch_size, num_classes))\n",
    "attn_idc"
   ]
  },
  {
   "cell_type": "code",
   "execution_count": 9,
   "metadata": {},
   "outputs": [
    {
     "data": {
      "text/plain": [
       "tensor([[0],\n",
       "        [0]])"
      ]
     },
     "execution_count": 9,
     "metadata": {},
     "output_type": "execute_result"
    }
   ],
   "source": [
    "zeros = torch.zeros(batch_size, 1).long()\n",
    "zeros"
   ]
  },
  {
   "cell_type": "code",
   "execution_count": 10,
   "metadata": {},
   "outputs": [
    {
     "data": {
      "text/plain": [
       "tensor([[0, 2, 2, 0, 2, 2, 0],\n",
       "        [0, 2, 2, 0, 1, 1, 2]])"
      ]
     },
     "execution_count": 10,
     "metadata": {},
     "output_type": "execute_result"
    }
   ],
   "source": [
    "attn_idc = torch.cat((zeros, attn_idc), dim=1)\n",
    "attn_idc"
   ]
  },
  {
   "cell_type": "code",
   "execution_count": 11,
   "metadata": {},
   "outputs": [],
   "source": [
    "#seg_labels = torch.LongTensor([[6, 6, 4, 1, 1, 4], [2, 2, 1, 2, 0, 0]])\n",
    "#seg_times = torch.LongTensor([[3, 7, 2, 1, 2, 3], [2, 6, 3, 4, 0, 0]])"
   ]
  },
  {
   "cell_type": "code",
   "execution_count": 12,
   "metadata": {},
   "outputs": [
    {
     "data": {
      "text/plain": [
       "tensor([[0, 0, 2, 2, 2, 2],\n",
       "        [2, 2, 2, 2, 0, 0]])"
      ]
     },
     "execution_count": 12,
     "metadata": {},
     "output_type": "execute_result"
    }
   ],
   "source": [
    "# selected_attn_idc: [batch_size, max_seg_label_length]\n",
    "selected_attn_idc = torch.gather(attn_idc, 1, seg_labels)\n",
    "selected_attn_idc"
   ]
  },
  {
   "cell_type": "code",
   "execution_count": 13,
   "metadata": {},
   "outputs": [
    {
     "data": {
      "text/plain": [
       "tensor([[ True,  True,  True,  True,  True,  True],\n",
       "        [ True,  True,  True,  True, False, False]])"
      ]
     },
     "execution_count": 13,
     "metadata": {},
     "output_type": "execute_result"
    }
   ],
   "source": [
    "mask = seg_labels.float().ge(0.5)\n",
    "mask"
   ]
  },
  {
   "cell_type": "code",
   "execution_count": 14,
   "metadata": {},
   "outputs": [
    {
     "data": {
      "text/plain": [
       "tensor([[[0.0404, 0.2473, 0.0853, 0.0964, 0.1363, 0.0416, 0.3528],\n",
       "         [0.0515, 0.2182, 0.2374, 0.3080, 0.0628, 0.0448, 0.0775],\n",
       "         [0.1667, 0.2723, 0.1623, 0.0255, 0.2226, 0.1059, 0.0447]],\n",
       "\n",
       "        [[0.0295, 0.1974, 0.2938, 0.0449, 0.0922, 0.1087, 0.2334],\n",
       "         [0.0449, 0.6299, 0.0654, 0.1992, 0.0116, 0.0266, 0.0225],\n",
       "         [0.0426, 0.3298, 0.0445, 0.0456, 0.0404, 0.1031, 0.3940]]])"
      ]
     },
     "execution_count": 14,
     "metadata": {},
     "output_type": "execute_result"
    }
   ],
   "source": [
    "# attn_weights: [batch_size, n_attns, seg_length]\n",
    "attn_weights = attn_weights.transpose(1, 2)\n",
    "attn_weights"
   ]
  },
  {
   "cell_type": "code",
   "execution_count": 15,
   "metadata": {},
   "outputs": [],
   "source": [
    "# Batched index_select\n",
    "def batched_index_select(t, dim, inds):\n",
    "    dummy = inds.unsqueeze(2).expand(inds.size(0), inds.size(1), t.size(2))\n",
    "    out = t.gather(dim, dummy) # b x e x f\n",
    "    return out"
   ]
  },
  {
   "cell_type": "code",
   "execution_count": 16,
   "metadata": {},
   "outputs": [
    {
     "data": {
      "text/plain": [
       "tensor([[[0.0404, 0.2473, 0.0853, 0.0964, 0.1363, 0.0416, 0.3528],\n",
       "         [0.0404, 0.2473, 0.0853, 0.0964, 0.1363, 0.0416, 0.3528],\n",
       "         [0.1667, 0.2723, 0.1623, 0.0255, 0.2226, 0.1059, 0.0447],\n",
       "         [0.1667, 0.2723, 0.1623, 0.0255, 0.2226, 0.1059, 0.0447],\n",
       "         [0.1667, 0.2723, 0.1623, 0.0255, 0.2226, 0.1059, 0.0447],\n",
       "         [0.1667, 0.2723, 0.1623, 0.0255, 0.2226, 0.1059, 0.0447]],\n",
       "\n",
       "        [[0.0426, 0.3298, 0.0445, 0.0456, 0.0404, 0.1031, 0.3940],\n",
       "         [0.0426, 0.3298, 0.0445, 0.0456, 0.0404, 0.1031, 0.3940],\n",
       "         [0.0426, 0.3298, 0.0445, 0.0456, 0.0404, 0.1031, 0.3940],\n",
       "         [0.0426, 0.3298, 0.0445, 0.0456, 0.0404, 0.1031, 0.3940],\n",
       "         [0.0295, 0.1974, 0.2938, 0.0449, 0.0922, 0.1087, 0.2334],\n",
       "         [0.0295, 0.1974, 0.2938, 0.0449, 0.0922, 0.1087, 0.2334]]])"
      ]
     },
     "execution_count": 16,
     "metadata": {},
     "output_type": "execute_result"
    }
   ],
   "source": [
    "# selected_attn_weights: [batch_size, max_seg_label_length, max_seg_length]\n",
    "selected_attn_weights = batched_index_select(attn_weights, 1, selected_attn_idc)\n",
    "selected_attn_weights"
   ]
  },
  {
   "cell_type": "code",
   "execution_count": 17,
   "metadata": {},
   "outputs": [],
   "source": [
    "#seg_labels = torch.LongTensor([[6, 6, 4, 1, 1, 4], [2, 2, 1, 2, 0, 0]])\n",
    "#seg_times = torch.LongTensor([[3, 7, 2, 1, 2, 3], [2, 6, 3, 4, 0, 0]])"
   ]
  },
  {
   "cell_type": "code",
   "execution_count": 18,
   "metadata": {},
   "outputs": [],
   "source": [
    "zeros = torch.zeros(batch_size, max_seg_label_length, 1)"
   ]
  },
  {
   "cell_type": "code",
   "execution_count": 19,
   "metadata": {},
   "outputs": [
    {
     "data": {
      "text/plain": [
       "tensor([[[0.0000, 0.0404, 0.2473, 0.0853, 0.0964, 0.1363, 0.0416, 0.3528],\n",
       "         [0.0000, 0.0404, 0.2473, 0.0853, 0.0964, 0.1363, 0.0416, 0.3528],\n",
       "         [0.0000, 0.1667, 0.2723, 0.1623, 0.0255, 0.2226, 0.1059, 0.0447],\n",
       "         [0.0000, 0.1667, 0.2723, 0.1623, 0.0255, 0.2226, 0.1059, 0.0447],\n",
       "         [0.0000, 0.1667, 0.2723, 0.1623, 0.0255, 0.2226, 0.1059, 0.0447],\n",
       "         [0.0000, 0.1667, 0.2723, 0.1623, 0.0255, 0.2226, 0.1059, 0.0447]],\n",
       "\n",
       "        [[0.0000, 0.0426, 0.3298, 0.0445, 0.0456, 0.0404, 0.1031, 0.3940],\n",
       "         [0.0000, 0.0426, 0.3298, 0.0445, 0.0456, 0.0404, 0.1031, 0.3940],\n",
       "         [0.0000, 0.0426, 0.3298, 0.0445, 0.0456, 0.0404, 0.1031, 0.3940],\n",
       "         [0.0000, 0.0426, 0.3298, 0.0445, 0.0456, 0.0404, 0.1031, 0.3940],\n",
       "         [0.0000, 0.0295, 0.1974, 0.2938, 0.0449, 0.0922, 0.1087, 0.2334],\n",
       "         [0.0000, 0.0295, 0.1974, 0.2938, 0.0449, 0.0922, 0.1087, 0.2334]]])"
      ]
     },
     "execution_count": 19,
     "metadata": {},
     "output_type": "execute_result"
    }
   ],
   "source": [
    "selected_attn_weights = torch.cat((zeros, selected_attn_weights), dim=2)\n",
    "selected_attn_weights"
   ]
  },
  {
   "cell_type": "code",
   "execution_count": 20,
   "metadata": {},
   "outputs": [
    {
     "data": {
      "text/plain": [
       "tensor([[[3],\n",
       "         [7],\n",
       "         [2],\n",
       "         [1],\n",
       "         [2],\n",
       "         [3]],\n",
       "\n",
       "        [[2],\n",
       "         [6],\n",
       "         [3],\n",
       "         [4],\n",
       "         [0],\n",
       "         [0]]])"
      ]
     },
     "execution_count": 20,
     "metadata": {},
     "output_type": "execute_result"
    }
   ],
   "source": [
    "# seg_times: [batch_size, max_seg_label_length, 1]\n",
    "seg_times = seg_times.unsqueeze(2)\n",
    "seg_times"
   ]
  },
  {
   "cell_type": "code",
   "execution_count": 21,
   "metadata": {},
   "outputs": [
    {
     "data": {
      "text/plain": [
       "tensor([[[0.0853],\n",
       "         [0.3528],\n",
       "         [0.2723],\n",
       "         [0.1667],\n",
       "         [0.2723],\n",
       "         [0.1623]],\n",
       "\n",
       "        [[0.3298],\n",
       "         [0.1031],\n",
       "         [0.0445],\n",
       "         [0.0456],\n",
       "         [0.0000],\n",
       "         [0.0000]]])"
      ]
     },
     "execution_count": 21,
     "metadata": {},
     "output_type": "execute_result"
    }
   ],
   "source": [
    "# selected_attn_weights: [batch_size, max_seg_label_length, 1]\n",
    "selected_attn_weights = torch.gather(selected_attn_weights, 2, seg_times)\n",
    "selected_attn_weights"
   ]
  },
  {
   "cell_type": "code",
   "execution_count": 22,
   "metadata": {},
   "outputs": [
    {
     "data": {
      "text/plain": [
       "tensor([[0.0853, 0.3528, 0.2723, 0.1667, 0.2723, 0.1623],\n",
       "        [0.3298, 0.1031, 0.0445, 0.0456, 0.0000, 0.0000]])"
      ]
     },
     "execution_count": 22,
     "metadata": {},
     "output_type": "execute_result"
    }
   ],
   "source": [
    "selected_attn_weights = selected_attn_weights.squeeze(2)\n",
    "selected_attn_weights"
   ]
  },
  {
   "cell_type": "code",
   "execution_count": 23,
   "metadata": {},
   "outputs": [
    {
     "data": {
      "text/plain": [
       "tensor([2.4619, 1.0420, 1.3010, 1.7916, 1.3010, 1.8184, 1.1093, 2.2716, 3.1124,\n",
       "        3.0875])"
      ]
     },
     "execution_count": 23,
     "metadata": {},
     "output_type": "execute_result"
    }
   ],
   "source": [
    "loss = -1 * torch.log(selected_attn_weights + eps).masked_select(mask)\n",
    "loss"
   ]
  }
 ],
 "metadata": {
  "kernelspec": {
   "display_name": "Python 3",
   "language": "python",
   "name": "python3"
  },
  "language_info": {
   "codemirror_mode": {
    "name": "ipython",
    "version": 3
   },
   "file_extension": ".py",
   "mimetype": "text/x-python",
   "name": "python",
   "nbconvert_exporter": "python",
   "pygments_lexer": "ipython3",
   "version": "3.6.7"
  }
 },
 "nbformat": 4,
 "nbformat_minor": 2
}
