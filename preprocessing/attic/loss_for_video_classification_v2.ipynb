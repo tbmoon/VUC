{
 "cells": [
  {
   "cell_type": "code",
   "execution_count": null,
   "metadata": {},
   "outputs": [],
   "source": [
    "import random\n",
    "import numpy as np\n",
    "import torch\n",
    "import torch.nn as nn\n",
    "import torch.nn.functional as F"
   ]
  },
  {
   "cell_type": "code",
   "execution_count": null,
   "metadata": {},
   "outputs": [],
   "source": [
    "eps = 1e-9"
   ]
  },
  {
   "cell_type": "code",
   "execution_count": null,
   "metadata": {},
   "outputs": [],
   "source": [
    "probs = torch.tensor([[0.04, 0.05, 0.04, 0.15, 0.11, 0.1, 0.11, 0.2, 0.1, 0.1],\n",
    "                      [0.03, 0.1, 0.2, 0.02, 0.12, 0.1, 0.13, 0.1, 0.1, 0.1],\n",
    "                      [0.02, 0.1, 0.05, 0.4, 0.13, 0.1, 0.0, 0.1, 0.04, 0.06]])"
   ]
  },
  {
   "cell_type": "code",
   "execution_count": null,
   "metadata": {},
   "outputs": [],
   "source": [
    "zeros = torch.zeros(3, 6)"
   ]
  },
  {
   "cell_type": "code",
   "execution_count": null,
   "metadata": {},
   "outputs": [],
   "source": [
    "_, pred = torch.max(probs, dim=1)\n",
    "pred"
   ]
  },
  {
   "cell_type": "code",
   "execution_count": null,
   "metadata": {},
   "outputs": [],
   "source": [
    "labels = torch.tensor([[3, 1, 0, 7, 4, 0], [0, 0, 0, 0, 0, 0], [2, 8, 9, 0, 0, 0]])\n",
    "labels"
   ]
  },
  {
   "cell_type": "code",
   "execution_count": null,
   "metadata": {},
   "outputs": [],
   "source": [
    "exist_label = labels.sum(dim=1).float().ge(0.1)\n",
    "exist_label"
   ]
  },
  {
   "cell_type": "code",
   "execution_count": null,
   "metadata": {},
   "outputs": [],
   "source": [
    "selected_labels = torch.where(labels == pred.view(-1, 1), labels, zeros.long())\n",
    "selected_labels"
   ]
  },
  {
   "cell_type": "code",
   "execution_count": null,
   "metadata": {},
   "outputs": [],
   "source": [
    "unselected_labels = torch.where(labels == pred.view(-1, 1), zeros.long(), labels)\n",
    "unselected_labels"
   ]
  },
  {
   "cell_type": "code",
   "execution_count": null,
   "metadata": {},
   "outputs": [],
   "source": [
    "next_labels = unselected_labels"
   ]
  },
  {
   "cell_type": "code",
   "execution_count": null,
   "metadata": {},
   "outputs": [],
   "source": [
    "selected_probs = torch.gather(probs, 1, selected_labels).float()\n",
    "selected_probs"
   ]
  },
  {
   "cell_type": "code",
   "execution_count": null,
   "metadata": {},
   "outputs": [],
   "source": [
    "unselected_probs = torch.gather(probs, 1, unselected_labels).float()\n",
    "unselected_probs"
   ]
  },
  {
   "cell_type": "code",
   "execution_count": null,
   "metadata": {},
   "outputs": [],
   "source": [
    "selected_loss = -torch.log(selected_probs + eps)\n",
    "selected_loss"
   ]
  },
  {
   "cell_type": "code",
   "execution_count": null,
   "metadata": {},
   "outputs": [],
   "source": [
    "unselected_loss = -torch.log(unselected_probs + eps)\n",
    "unselected_loss"
   ]
  },
  {
   "cell_type": "code",
   "execution_count": null,
   "metadata": {},
   "outputs": [],
   "source": [
    "selected_loss = torch.where(selected_labels == torch.zeros(1).long(), zeros, selected_loss)\n",
    "selected_loss"
   ]
  },
  {
   "cell_type": "code",
   "execution_count": null,
   "metadata": {},
   "outputs": [],
   "source": [
    "unselected_loss = torch.where(unselected_labels == torch.zeros(1).long(), zeros, unselected_loss)\n",
    "unselected_loss"
   ]
  },
  {
   "cell_type": "code",
   "execution_count": null,
   "metadata": {},
   "outputs": [],
   "source": [
    "selected_loss, _ = torch.max(selected_loss, dim=1)\n",
    "selected_loss"
   ]
  },
  {
   "cell_type": "code",
   "execution_count": null,
   "metadata": {},
   "outputs": [],
   "source": [
    "unselected_loss = unselected_loss.sum(dim=1) / (unselected_labels.float().ge(0.5).sum(dim=1).float() + eps)\n",
    "unselected_loss"
   ]
  },
  {
   "cell_type": "code",
   "execution_count": null,
   "metadata": {},
   "outputs": [],
   "source": [
    "exist_selected_label = selected_labels.float().sum(dim=1).ge(0.5)\n",
    "exist_selected_label"
   ]
  },
  {
   "cell_type": "code",
   "execution_count": null,
   "metadata": {},
   "outputs": [],
   "source": [
    "mean_loss = torch.where(exist_selected_label == torch.ones(1).byte(), selected_loss, unselected_loss)\n",
    "mean_loss"
   ]
  },
  {
   "cell_type": "code",
   "execution_count": null,
   "metadata": {},
   "outputs": [],
   "source": [
    "mean_loss = mean_loss.masked_select(exist_label)\n",
    "mean_loss"
   ]
  },
  {
   "cell_type": "code",
   "execution_count": null,
   "metadata": {},
   "outputs": [],
   "source": [
    "mean_loss = mean_loss.sum()\n",
    "mean_loss"
   ]
  }
 ],
 "metadata": {
  "kernelspec": {
   "display_name": "Python 3",
   "language": "python",
   "name": "python3"
  },
  "language_info": {
   "codemirror_mode": {
    "name": "ipython",
    "version": 3
   },
   "file_extension": ".py",
   "mimetype": "text/x-python",
   "name": "python",
   "nbconvert_exporter": "python",
   "pygments_lexer": "ipython3",
   "version": "3.6.8"
  }
 },
 "nbformat": 4,
 "nbformat_minor": 2
}
