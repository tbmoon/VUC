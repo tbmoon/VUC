{
 "cells": [
  {
   "cell_type": "code",
   "execution_count": null,
   "metadata": {},
   "outputs": [],
   "source": [
    "# for 3rd challenge.\n",
    "# the number of videos for validation set: 47,087 -> 38,788\n",
    "# the number of videos for test set      : 44,753 -> 44,739"
   ]
  },
  {
   "cell_type": "code",
   "execution_count": null,
   "metadata": {},
   "outputs": [],
   "source": [
    "import os\n",
    "import numpy as np\n",
    "import random\n",
    "import pandas as pd"
   ]
  },
  {
   "cell_type": "code",
   "execution_count": null,
   "metadata": {},
   "outputs": [],
   "source": [
    "num_train_samples = 35000"
   ]
  },
  {
   "cell_type": "code",
   "execution_count": null,
   "metadata": {},
   "outputs": [],
   "source": [
    "challenge = '3rd_challenge' # 2nd_challenge / 3rd challenge"
   ]
  },
  {
   "cell_type": "code",
   "execution_count": null,
   "metadata": {},
   "outputs": [],
   "source": [
    "data_dir = '/run/media/hoosiki/WareHouse2/mtb/datasets/VU/pytorch_datasets/'\n",
    "out_dir = '../data/'"
   ]
  },
  {
   "cell_type": "code",
   "execution_count": null,
   "metadata": {},
   "outputs": [],
   "source": [
    "random.seed(42)\n",
    "if challenge == '2nd_challenge':\n",
    "    data_types = ['train', 'valid']\n",
    "    df_train = pd.DataFrame()\n",
    "    df_valid = pd.DataFrame()\n",
    "else:\n",
    "    data_types = ['valid', 'test']\n",
    "    df_train = pd.DataFrame()\n",
    "    df_valid = pd.DataFrame()\n",
    "    df_test = pd.DataFrame()"
   ]
  },
  {
   "cell_type": "code",
   "execution_count": null,
   "metadata": {},
   "outputs": [],
   "source": [
    "for data_type in data_types:\n",
    "    frame_dir = data_dir + '{}/{}/'.format(challenge, data_type)\n",
    "\n",
    "    for _, _, files in os.walk(frame_dir):\n",
    "        if (challenge == '2nd_challenge'):\n",
    "            assert(data_type == 'train' or data_type == 'valid')\n",
    "            if data_type == 'train':\n",
    "                df_train['id'] = pd.Series(files[:])\n",
    "            else:\n",
    "                df_valid['id'] = pd.Series(files[:])\n",
    "        else:\n",
    "            assert(data_type == 'valid' or data_type == 'test')\n",
    "            if data_type == 'valid':\n",
    "                random.shuffle(files)\n",
    "                df_train['id'] = pd.Series(files[:num_train_samples])\n",
    "                df_valid['id'] = pd.Series(files[num_train_samples:])\n",
    "            else:\n",
    "                df_test['id'] = pd.Series(files)                \n",
    "            \n",
    "if challenge == '2nd_challenge':\n",
    "    df_train.to_csv('{}{}/train.csv'.format(out_dir, challenge), index=False)\n",
    "    df_valid.to_csv('{}{}/valid.csv'.format(out_dir, challenge), index=False)\n",
    "else:\n",
    "    df_train.to_csv('{}{}/train.csv'.format(out_dir, challenge), index=False)\n",
    "    df_valid.to_csv('{}{}/valid.csv'.format(out_dir, challenge), index=False)\n",
    "    df_test.to_csv('{}{}/test.csv'.format(out_dir, challenge), index=False)\n",
    "\n",
    "print('Done!')"
   ]
  }
 ],
 "metadata": {
  "kernelspec": {
   "display_name": "Python 3",
   "language": "python",
   "name": "python3"
  },
  "language_info": {
   "codemirror_mode": {
    "name": "ipython",
    "version": 3
   },
   "file_extension": ".py",
   "mimetype": "text/x-python",
   "name": "python",
   "nbconvert_exporter": "python",
   "pygments_lexer": "ipython3",
   "version": "3.6.8"
  }
 },
 "nbformat": 4,
 "nbformat_minor": 2
}
