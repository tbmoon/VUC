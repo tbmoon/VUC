{
 "cells": [
  {
   "cell_type": "code",
   "execution_count": null,
   "metadata": {},
   "outputs": [],
   "source": [
    "# the number of videos for validation set: 47,087\n",
    "# the number of videos for test set      : 44,753"
   ]
  },
  {
   "cell_type": "code",
   "execution_count": null,
   "metadata": {},
   "outputs": [],
   "source": [
    "import os\n",
    "import numpy as np\n",
    "import random\n",
    "import pandas as pd"
   ]
  },
  {
   "cell_type": "code",
   "execution_count": null,
   "metadata": {},
   "outputs": [],
   "source": [
    "num_train_samples = 40000"
   ]
  },
  {
   "cell_type": "code",
   "execution_count": null,
   "metadata": {},
   "outputs": [],
   "source": [
    "data_dir = '/run/media/hoosiki/WareHouse3/mtb/datasets/VU/active_datasets/'\n",
    "data_types = ['validate', 'test']"
   ]
  },
  {
   "cell_type": "code",
   "execution_count": null,
   "metadata": {},
   "outputs": [],
   "source": [
    "df_train = pd.DataFrame()\n",
    "df_valid = pd.DataFrame()\n",
    "df_test = pd.DataFrame()\n",
    "\n",
    "for data_type in data_types:\n",
    "    frame_dir = data_dir + 'npy_formatted_frame/{}/'.format(data_type)\n",
    "\n",
    "    for _, _, files in os.walk(frame_dir):\n",
    "        if data_type == 'validate':\n",
    "            random.shuffle(files)\n",
    "            df_train['id'] = pd.Series(files[:num_train_samples])\n",
    "            df_valid['id'] = pd.Series(files[num_train_samples:])\n",
    "        else:\n",
    "            df_test['id'] = pd.Series(files)\n",
    "            \n",
    "df_train.to_csv('{}train.csv'.format(data_dir), index=False)\n",
    "df_valid.to_csv('{}valid.csv'.format(data_dir), index=False)\n",
    "df_test.to_csv('{}test.csv'.format(data_dir), index=False)"
   ]
  }
 ],
 "metadata": {
  "kernelspec": {
   "display_name": "Python 3",
   "language": "python",
   "name": "python3"
  },
  "language_info": {
   "codemirror_mode": {
    "name": "ipython",
    "version": 3
   },
   "file_extension": ".py",
   "mimetype": "text/x-python",
   "name": "python",
   "nbconvert_exporter": "python",
   "pygments_lexer": "ipython3",
   "version": "3.6.8"
  }
 },
 "nbformat": 4,
 "nbformat_minor": 2
}
