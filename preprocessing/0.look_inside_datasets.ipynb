{
 "cells": [
  {
   "cell_type": "code",
   "execution_count": null,
   "metadata": {},
   "outputs": [],
   "source": [
    "'''\n",
    "Results of this macro\n",
    "\n",
    "- Validation set:\n",
    "    1) id\n",
    "    2) labels\n",
    "    3) segment_labels\n",
    "    4) segment_scores\n",
    "    5) segment_start_times\n",
    "    6) segment_end_times\n",
    "    7) rgb\n",
    "    8) audio\n",
    "\n",
    "- Test set:\n",
    "    1) id\n",
    "    2) rgb\n",
    "    3) audio\n",
    "'''"
   ]
  },
  {
   "cell_type": "code",
   "execution_count": null,
   "metadata": {},
   "outputs": [],
   "source": [
    "import os\n",
    "import numpy as np\n",
    "import glob\n",
    "import tensorflow as tf"
   ]
  },
  {
   "cell_type": "code",
   "execution_count": null,
   "metadata": {},
   "outputs": [],
   "source": [
    "is_validate = True # True/False for validation/test sets, respectively."
   ]
  },
  {
   "cell_type": "code",
   "execution_count": null,
   "metadata": {},
   "outputs": [],
   "source": [
    "data_dir = '/run/media/hoosiki/WareHouse3/mtb/datasets/VU/active_datasets/'\n",
    "frame_dir = data_dir + 'frame/'"
   ]
  },
  {
   "cell_type": "code",
   "execution_count": null,
   "metadata": {},
   "outputs": [],
   "source": [
    "if is_validate == True:\n",
    "    datatype = 'validate'\n",
    "else:\n",
    "    datatype = 'test'"
   ]
  },
  {
   "cell_type": "code",
   "execution_count": null,
   "metadata": {},
   "outputs": [],
   "source": [
    "file_paths = glob.glob(frame_dir + '{}*.tfrecord'.format(datatype))"
   ]
  },
  {
   "cell_type": "code",
   "execution_count": null,
   "metadata": {},
   "outputs": [],
   "source": [
    "frame_lvl_record = frame_dir + '{}0000.tfrecord'.format(datatype)\n",
    "        \n",
    "for example in tf.python_io.tf_record_iterator(frame_lvl_record):\n",
    "\n",
    "    tf_example     = tf.train.Example.FromString(example)\n",
    "    tf_seq_example = tf.train.SequenceExample.FromString(example)\n",
    "\n",
    "    print(tf_example.features.feature.keys())\n",
    "    print(tf_seq_example.feature_lists.feature_list.keys())    \n",
    "    \n",
    "    break"
   ]
  }
 ],
 "metadata": {
  "kernelspec": {
   "display_name": "Python 3",
   "language": "python",
   "name": "python3"
  },
  "language_info": {
   "codemirror_mode": {
    "name": "ipython",
    "version": 3
   },
   "file_extension": ".py",
   "mimetype": "text/x-python",
   "name": "python",
   "nbconvert_exporter": "python",
   "pygments_lexer": "ipython3",
   "version": "3.6.8"
  }
 },
 "nbformat": 4,
 "nbformat_minor": 2
}
